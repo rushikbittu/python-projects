{
 "cells": [
  {
   "cell_type": "code",
   "execution_count": null,
   "id": "8b7d5e3b",
   "metadata": {},
   "outputs": [],
   "source": [
    "from tkinter import *\n",
    "with open(r\"C:\\Users\\Rushik\\OneDrive\\Documents\\Desktop\\crypto ppt.ppt\") as f1:\n",
    "    s1 = f1.read().lower().split()\n",
    "    l1 = []\n",
    "    for i in s1:\n",
    "        if i.isalnum():\n",
    "            l1.append(i)\n",
    "with open(r\"C:\\Users\\Rushik\\OneDrive\\Documents\\Desktop\\mini project ppt.pptx\") as f2:\n",
    "    s2 = f2.read().lower().split()\n",
    "    l2 = []\n",
    "    for i in s2:\n",
    "        if i.isalnum():\n",
    "            l2.append(i)\n",
    "plag_words = len(set(l1).intersection(set(l2)))\n",
    "total_words = len(l1) + len(l2)\n",
    "plag_percent = 100 - round((total_words - plag_words * 2) / total_words * 100)\n",
    "result = \"The Plagiarized Content Percent among two files is \" + str(plag_percent) + \"%\"\n",
    "if plag_percent > 30 and plag_percent <= 60:\n",
    "    win = Tk()\n",
    "    win.geometry(\"800x200\")\n",
    "    canvas = Canvas(win, width=700, height=650, bg=\"Yellow\")\n",
    "    canvas.create_text(300, 100, text=result, fill=\"black\", font=('Helvetica 15 bold'))\n",
    "    canvas.pack()\n",
    "    win.mainloop()\n",
    "else:\n",
    "    win = Tk()\n",
    "    win.geometry(\"800x200\")\n",
    "    canvas = Canvas(win, width=700, height=650, bg=\"Red\")\n",
    "    canvas.create_text(300, 100, text=result, fill=\"black\", font=('Helvetica 15 bold'))\n",
    "    canvas.pack()\n",
    "    win.mainloop()\n"
   ]
  }
 ],
 "metadata": {
  "kernelspec": {
   "display_name": "Python 3 (ipykernel)",
   "language": "python",
   "name": "python3"
  },
  "language_info": {
   "codemirror_mode": {
    "name": "ipython",
    "version": 3
   },
   "file_extension": ".py",
   "mimetype": "text/x-python",
   "name": "python",
   "nbconvert_exporter": "python",
   "pygments_lexer": "ipython3",
   "version": "3.11.4"
  }
 },
 "nbformat": 4,
 "nbformat_minor": 5
}
